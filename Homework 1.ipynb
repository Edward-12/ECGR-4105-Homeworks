{
 "cells": [
  {
   "cell_type": "code",
   "execution_count": 856,
   "id": "d0d7b844",
   "metadata": {},
   "outputs": [],
   "source": [
    "import numpy as np\n",
    "import pandas as pd\n",
    "\n",
    "# data visualisation\n",
    "import matplotlib.pyplot as plt\n",
    "import seaborn as sns\n",
    "\n",
    "housing = pd.DataFrame(pd.read_csv(\"housing.csv\"))\n"
   ]
  },
  {
   "cell_type": "markdown",
   "id": "94feaa71",
   "metadata": {},
   "source": [
    "# Problem 1 Part a"
   ]
  },
  {
   "cell_type": "code",
   "execution_count": 857,
   "id": "e5989736-2923-42ed-a3d0-b96cbe13ff8a",
   "metadata": {},
   "outputs": [],
   "source": [
    "#housing.values[:,:]\n",
    "varlist = ['mainroad', 'guestroom', 'basement', 'hotwaterheating', 'airconditioning', 'prefarea']\n",
    "\n",
    "def binary_map(x):\n",
    "    return x.map({'yes': 1, \"no\": 0})\n",
    "\n",
    "housing[varlist] = housing[varlist].apply(binary_map)"
   ]
  },
  {
   "cell_type": "code",
   "execution_count": 858,
   "id": "84ccf661-1519-499c-846e-2141ef93f9f2",
   "metadata": {},
   "outputs": [
    {
     "data": {
      "text/plain": [
       "(436, 13)"
      ]
     },
     "execution_count": 858,
     "metadata": {},
     "output_type": "execute_result"
    }
   ],
   "source": [
    "#Splitting the Data Training and Testing Sets\n",
    "from sklearn.model_selection import train_test_split\n",
    "\n",
    "# We specify this so that the train and test data set always have the same rows, respectively\n",
    "np.random.seed(0)\n",
    "df_train, df_test = train_test_split(housing, train_size = 0.8, test_size = 0.2)\n",
    "df_train.shape"
   ]
  },
  {
   "cell_type": "code",
   "execution_count": 859,
   "id": "51ce4e3d-d729-41a7-b6f6-f8676071c8ef",
   "metadata": {},
   "outputs": [],
   "source": [
    "num_vars = ['area', 'bedrooms', 'bathrooms', 'stories', 'parking', 'price']\n",
    "df_Newtrain = df_train[num_vars]\n",
    "df_Newtest = df_test[num_vars]"
   ]
  },
  {
   "cell_type": "code",
   "execution_count": 860,
   "id": "8c43e788-216b-4757-8fc2-400d2d655157",
   "metadata": {},
   "outputs": [
    {
     "name": "stdout",
     "output_type": "stream",
     "text": [
      "[436, 109]\n"
     ]
    }
   ],
   "source": [
    "Newtrain = df_Newtrain.values[:,:5]\n",
    "y_train = df_Newtrain.values[:,-1]\n",
    "Newtest = df_Newtest.values[:,:5]\n",
    "y_test = df_Newtest.values[:,-1]\n",
    "\n",
    "m = [len(Newtrain), len(Newtest)]\n",
    "print(m)\n",
    "\n",
    "y_train = y_train.reshape(m[0],1)\n",
    "X0 = np.ones((m[0],1))\n",
    "Newtrain = np.hstack((X0, Newtrain))\n",
    "\n",
    "y_test = y_test.reshape(m[1],1)\n",
    "X0 = np.ones((m[1],1))\n",
    "Newtest = np.hstack((X0, Newtest))"
   ]
  },
  {
   "cell_type": "code",
   "execution_count": 861,
   "id": "e4ae3125-5a97-4217-a922-dec7d2e6fa51",
   "metadata": {},
   "outputs": [],
   "source": [
    "def compute_loss(X, y, theta, m):\n",
    "\n",
    "    h = X.dot(theta)\n",
    "    error = np.subtract(h, y)\n",
    "    sqrError = np.square(error)\n",
    "    J = 1 / (2*m) * np.sum(sqrError)\n",
    "    return J\n"
   ]
  },
  {
   "cell_type": "code",
   "execution_count": 862,
   "id": "d866650b",
   "metadata": {},
   "outputs": [],
   "source": [
    "def compute_loss_2(X, y, theta, m, lamda):\n",
    "\n",
    "    h = X.dot(theta)\n",
    "    error = np.subtract(h, y)\n",
    "    sqrError = np.square(error)\n",
    "    J = 1 / (2*m) * (np.sum(sqrError) + lamda*np.sum(np.square(theta)))\n",
    "    return J"
   ]
  },
  {
   "cell_type": "code",
   "execution_count": 863,
   "id": "a0c897c4-f383-43cb-9cd9-2a3e596ac61e",
   "metadata": {},
   "outputs": [],
   "source": [
    "def gradient_descent(X, y, theta, alpha, iterations, m1, m2, X2, y2):\n",
    "    \n",
    "    \n",
    "    loss_history_train = np.zeros(iterations)\n",
    "    loss_history_validation = np.zeros(iterations)\n",
    "    \n",
    "    for i in range(iterations):\n",
    "        \n",
    "        h = X.dot(theta)\n",
    "        error = np.subtract(h, y)\n",
    "        sum_delta = (alpha / m1) * X.transpose().dot(error);\n",
    "        theta = theta - sum_delta;\n",
    "        loss_history_train[i] = compute_loss(X, y, theta, m1)\n",
    "        loss_history_validation[i] = compute_loss(X2, y2, theta, m2)\n",
    "    return theta, loss_history_train, loss_history_validation"
   ]
  },
  {
   "cell_type": "code",
   "execution_count": 864,
   "id": "30627af4",
   "metadata": {},
   "outputs": [],
   "source": [
    "def gradient_descent_2(X, y, theta, alpha, iterations, m1, m2, X2, y2, lamda):\n",
    "    \n",
    "    \n",
    "    loss_history_train = np.zeros(iterations)\n",
    "    loss_history_validation = np.zeros(iterations)\n",
    "    \n",
    "    for i in range(iterations):\n",
    "        \n",
    "        h = X.dot(theta)\n",
    "        error = np.subtract(h, y)\n",
    "        sum_delta = (alpha / m1) * X.transpose().dot(error);\n",
    "        theta = theta - sum_delta;\n",
    "        loss_history_train[i] = compute_loss_2(X, y, theta, m1, lamda)\n",
    "        loss_history_validation[i] = compute_loss(X2, y2, theta, m2)\n",
    "    return theta, loss_history_train, loss_history_validation"
   ]
  },
  {
   "cell_type": "code",
   "execution_count": 865,
   "id": "b35423d1-c88d-4d0a-bf88-519f0c358daf",
   "metadata": {},
   "outputs": [],
   "source": [
    "theta = np.zeros((6,1))\n",
    "iterations = 20;\n",
    "alpha = .00000001;"
   ]
  },
  {
   "cell_type": "code",
   "execution_count": 866,
   "id": "59763687-54ee-4679-95d9-3e952074573d",
   "metadata": {},
   "outputs": [
    {
     "name": "stdout",
     "output_type": "stream",
     "text": [
      "[[2.10904764e-01]\n",
      " [8.60537307e+02]\n",
      " [6.96209629e-01]\n",
      " [3.37624020e-01]\n",
      " [4.95240374e-01]\n",
      " [1.85764132e-01]]\n"
     ]
    },
    {
     "data": {
      "text/plain": [
       "<matplotlib.legend.Legend at 0x1224b7eb130>"
      ]
     },
     "execution_count": 866,
     "metadata": {},
     "output_type": "execute_result"
    },
    {
     "data": {
      "image/png": "[encoded data removed]",
      "text/plain": [
       "<Figure size 432x288 with 1 Axes>"
      ]
     },
     "metadata": {
      "needs_background": "light"
     },
     "output_type": "display_data"
    }
   ],
   "source": [
    "theta, loss_history_train, loss_history_validation = gradient_descent(Newtrain, y_train, theta, alpha, iterations, m[0], m[1], Newtest, y_test)\n",
    "\n",
    "total_loss_for_train = loss_history_train.sum()\n",
    "total_loss_for_validation = loss_history_validation.sum()\n",
    "print(theta)\n",
    "\n",
    "plt.plot(range(1, iterations + 1), loss_history_train, color='magenta', label='cost of training data')\n",
    "plt.plot(range(1, iterations + 1), loss_history_validation, color='blue', label='cost of validation data')\n",
    "plt.grid()\n",
    "plt.xlabel('Number of Iterations')\n",
    "plt.ylabel('Cost/Loss')\n",
    "plt.title('Cost vs Iterations')\n",
    "plt.legend()"
   ]
  },
  {
   "cell_type": "markdown",
   "id": "f8a1cab7",
   "metadata": {},
   "source": [
    "# Problem 1 Part b"
   ]
  },
  {
   "cell_type": "code",
   "execution_count": 867,
   "id": "81edac0e",
   "metadata": {},
   "outputs": [
    {
     "name": "stdout",
     "output_type": "stream",
     "text": [
      "[436, 109]\n",
      "[[1.0 3620 2 ... 0 0 0]\n",
      " [1.0 4000 2 ... 0 0 0]\n",
      " [1.0 3040 2 ... 0 0 0]\n",
      " ...\n",
      " [1.0 5750 3 ... 1 1 1]\n",
      " [1.0 3600 3 ... 0 1 0]\n",
      " [1.0 6600 3 ... 0 0 1]]\n"
     ]
    }
   ],
   "source": [
    "Newtrain = df_train.values[:,1:12]\n",
    "y_train = df_train.values[:,0]\n",
    "Newtest = df_test.values[:,1:12]\n",
    "y_test = df_test.values[:,0]\n",
    "\n",
    "m = [len(Newtrain), len(Newtest)]\n",
    "print(m)\n",
    "\n",
    "y_train = y_train.reshape(m[0],1)\n",
    "X0 = np.ones((m[0],1))\n",
    "Newtrain = np.hstack((X0, Newtrain))\n",
    "\n",
    "y_test = y_test.reshape(m[1],1)\n",
    "X0 = np.ones((m[1],1))\n",
    "Newtest = np.hstack((X0, Newtest))\n",
    "\n",
    "print(Newtrain)"
   ]
  },
  {
   "cell_type": "code",
   "execution_count": 868,
   "id": "25ca5f12",
   "metadata": {},
   "outputs": [],
   "source": [
    "theta = np.zeros((12,1))\n",
    "iterations = 100;\n",
    "alpha = .000000001;"
   ]
  },
  {
   "cell_type": "code",
   "execution_count": 869,
   "id": "20ac451a",
   "metadata": {},
   "outputs": [
    {
     "name": "stdout",
     "output_type": "stream",
     "text": [
      "[[0.17074557509822785]\n",
      " [824.5032605043407]\n",
      " [0.5447757923500706]\n",
      " [0.25468564600006577]\n",
      " [0.36823503714884015]\n",
      " [0.1543454486644712]\n",
      " [0.04341253391652539]\n",
      " [0.07264001448224303]\n",
      " [0.011983817494254496]\n",
      " [0.08093779931129551]\n",
      " [0.14752615643151926]\n",
      " [0.05673308116446613]]\n"
     ]
    },
    {
     "data": {
      "text/plain": [
       "<matplotlib.legend.Legend at 0x1224ba2f430>"
      ]
     },
     "execution_count": 869,
     "metadata": {},
     "output_type": "execute_result"
    },
    {
     "data": {
      "image/png": "[encoded data removed]",
      "text/plain": [
       "<Figure size 432x288 with 1 Axes>"
      ]
     },
     "metadata": {
      "needs_background": "light"
     },
     "output_type": "display_data"
    }
   ],
   "source": [
    "theta, loss_history_train, loss_history_validation = gradient_descent(Newtrain, y_train, theta, alpha, iterations, m[0], m[1], Newtest, y_test)\n",
    "\n",
    "total_loss_for_train = loss_history_train.sum()\n",
    "total_loss_for_validation = loss_history_validation.sum()\n",
    "print(theta)\n",
    "\n",
    "plt.plot(range(1, iterations + 1), loss_history_train, color='magenta', label='cost of training data')\n",
    "plt.plot(range(1, iterations + 1), loss_history_validation, color='blue', label='cost of validation data')\n",
    "plt.grid()\n",
    "plt.xlabel('Number of Iterations')\n",
    "plt.ylabel('Cost/Loss')\n",
    "plt.title('Cost vs Iterations')\n",
    "plt.legend()"
   ]
  },
  {
   "cell_type": "markdown",
   "id": "5ef8037e",
   "metadata": {},
   "source": [
    "# Problem 2 part a"
   ]
  },
  {
   "cell_type": "code",
   "execution_count": 870,
   "id": "7b5d27bd",
   "metadata": {},
   "outputs": [],
   "source": [
    "import warnings\n",
    "warnings.filterwarnings('ignore')\n",
    "\n",
    "from sklearn.preprocessing import MinMaxScaler, StandardScaler\n",
    "\n",
    "# normalizing the input data and target column\n",
    "scaler = MinMaxScaler()\n",
    "df_Newtrain[num_vars] = scaler.fit_transform(df_Newtrain[num_vars])\n",
    "df_Newtest[num_vars] = scaler.fit_transform(df_Newtest[num_vars])"
   ]
  },
  {
   "cell_type": "code",
   "execution_count": 871,
   "id": "b9fed85c",
   "metadata": {},
   "outputs": [
    {
     "data": {
      "text/plain": [
       "(109, 5)"
      ]
     },
     "execution_count": 871,
     "metadata": {},
     "output_type": "execute_result"
    }
   ],
   "source": [
    "y_Normtrain = df_Newtrain.pop('price')\n",
    "X_Normtrain = df_Newtrain.copy()\n",
    "y_validation = df_Newtest.pop('price')\n",
    "x_validation = df_Newtest.copy()\n",
    "x_validation.shape\n"
   ]
  },
  {
   "cell_type": "code",
   "execution_count": 872,
   "id": "08f9cd91",
   "metadata": {},
   "outputs": [
    {
     "name": "stdout",
     "output_type": "stream",
     "text": [
      "[436, 109]\n"
     ]
    }
   ],
   "source": [
    "X_Normtrain = X_Normtrain.values\n",
    "y_Normtrain = y_Normtrain.values\n",
    "x_validation = x_validation.values\n",
    "y_validation = y_validation.values\n",
    "\n",
    "m = [len(X_Normtrain), len(x_validation)]\n",
    "print(m)\n",
    "\n",
    "y_Normtrain = y_Normtrain.reshape(m[0],1)\n",
    "X0 = np.ones((m[0],1))\n",
    "X_Normtrain = np.hstack((X0, X_Normtrain))\n",
    "\n",
    "y_validation = y_validation.reshape(m[1],1)\n",
    "X0 = np.ones((m[1],1))\n",
    "x_validation = np.hstack((X0, x_validation))"
   ]
  },
  {
   "cell_type": "code",
   "execution_count": 873,
   "id": "5f2f09c8",
   "metadata": {},
   "outputs": [],
   "source": [
    "theta = np.zeros((6,1))\n",
    "iterations = 2000;\n",
    "alpha = .01;"
   ]
  },
  {
   "cell_type": "code",
   "execution_count": 874,
   "id": "5a4853fd",
   "metadata": {},
   "outputs": [
    {
     "name": "stdout",
     "output_type": "stream",
     "text": [
      "[[0.09500384]\n",
      " [0.17381659]\n",
      " [0.09700371]\n",
      " [0.17097046]\n",
      " [0.13712255]\n",
      " [0.12607193]]\n"
     ]
    },
    {
     "data": {
      "text/plain": [
       "<matplotlib.legend.Legend at 0x1224ba2f280>"
      ]
     },
     "execution_count": 874,
     "metadata": {},
     "output_type": "execute_result"
    },
    {
     "data": {
      "image/png": "[encoded data removed]",
      "text/plain": [
       "<Figure size 432x288 with 1 Axes>"
      ]
     },
     "metadata": {
      "needs_background": "light"
     },
     "output_type": "display_data"
    }
   ],
   "source": [
    "theta, loss_history_train, loss_history_validation = gradient_descent(X_Normtrain, y_Normtrain, theta, alpha, iterations, m[0], m[1], x_validation, y_validation)\n",
    "\n",
    "total_loss_for_train = loss_history_train.sum()\n",
    "total_loss_for_validation = loss_history_validation.sum()\n",
    "\n",
    "print(theta)\n",
    "plt.plot(range(1, iterations + 1), loss_history_train, color='magenta', label='cost of training data')\n",
    "plt.plot(range(1, iterations + 1), loss_history_validation, color='blue', label='cost of validation data')\n",
    "plt.grid()\n",
    "plt.xlabel('Number of Iterations')\n",
    "plt.ylabel('Cost/Loss')\n",
    "plt.title('Cost vs Iterations')\n",
    "plt.legend()"
   ]
  },
  {
   "cell_type": "markdown",
   "id": "5cf3d5e7",
   "metadata": {},
   "source": [
    "# Standardized 6 inputs"
   ]
  },
  {
   "cell_type": "code",
   "execution_count": 875,
   "id": "67b3cd92",
   "metadata": {},
   "outputs": [],
   "source": [
    "num_vars = ['area', 'bedrooms', 'bathrooms', 'stories', 'parking', 'price']\n",
    "df_Newtrain = df_train[num_vars]\n",
    "df_Newtest = df_test[num_vars]"
   ]
  },
  {
   "cell_type": "code",
   "execution_count": 876,
   "id": "aa9380dc",
   "metadata": {},
   "outputs": [],
   "source": [
    "# standardizing the input data and target column\n",
    "scaler = StandardScaler()\n",
    "df_Newtrain[num_vars] = scaler.fit_transform(df_Newtrain[num_vars])\n",
    "df_Newtest[num_vars] = scaler.fit_transform(df_Newtest[num_vars])"
   ]
  },
  {
   "cell_type": "code",
   "execution_count": 877,
   "id": "dde9ec26",
   "metadata": {},
   "outputs": [
    {
     "data": {
      "text/plain": [
       "(109, 5)"
      ]
     },
     "execution_count": 877,
     "metadata": {},
     "output_type": "execute_result"
    }
   ],
   "source": [
    "y_Standardtrain = df_Newtrain.pop('price')\n",
    "X_Standardtrain = df_Newtrain.copy()\n",
    "y_validation = df_Newtest.pop('price')\n",
    "x_validation = df_Newtest.copy()\n",
    "x_validation.shape\n"
   ]
  },
  {
   "cell_type": "code",
   "execution_count": 878,
   "id": "3321b754",
   "metadata": {},
   "outputs": [
    {
     "name": "stdout",
     "output_type": "stream",
     "text": [
      "[436, 109]\n"
     ]
    }
   ],
   "source": [
    "X_Standardtrain = X_Standardtrain.values\n",
    "y_Standardtrain = y_Standardtrain.values\n",
    "x_validation = x_validation.values\n",
    "y_validation = y_validation.values\n",
    "\n",
    "m = [len(X_Standardtrain), len(x_validation)]\n",
    "print(m)\n",
    "\n",
    "y_Standardtrain = y_Standardtrain.reshape(m[0],1)\n",
    "X0 = np.ones((m[0],1))\n",
    "X_Standardtrain = np.hstack((X0, X_Standardtrain))\n",
    "\n",
    "y_validation = y_validation.reshape(m[1],1)\n",
    "X0 = np.ones((m[1],1))\n",
    "x_validation = np.hstack((X0, x_validation))"
   ]
  },
  {
   "cell_type": "code",
   "execution_count": 879,
   "id": "326b6382",
   "metadata": {},
   "outputs": [],
   "source": [
    "theta = np.zeros((6,1))\n",
    "iterations = 2000;\n",
    "alpha = .01;"
   ]
  },
  {
   "cell_type": "code",
   "execution_count": 880,
   "id": "6812ebd1",
   "metadata": {},
   "outputs": [
    {
     "name": "stdout",
     "output_type": "stream",
     "text": [
      "[[2.71752549e-16]\n",
      " [3.88481592e-01]\n",
      " [8.90651783e-02]\n",
      " [3.04158375e-01]\n",
      " [2.40438864e-01]\n",
      " [1.60108211e-01]]\n"
     ]
    },
    {
     "data": {
      "text/plain": [
       "<matplotlib.legend.Legend at 0x1224bb10100>"
      ]
     },
     "execution_count": 880,
     "metadata": {},
     "output_type": "execute_result"
    },
    {
     "data": {
      "image/png": "[encoded data removed]",
      "text/plain": [
       "<Figure size 432x288 with 1 Axes>"
      ]
     },
     "metadata": {
      "needs_background": "light"
     },
     "output_type": "display_data"
    }
   ],
   "source": [
    "theta, loss_history_train, loss_history_validation = gradient_descent(X_Standardtrain, y_Standardtrain, theta, alpha, iterations, m[0], m[1], x_validation, y_validation)\n",
    "\n",
    "total_loss_for_train = loss_history_train.sum()\n",
    "total_loss_for_validation = loss_history_validation.sum()\n",
    "\n",
    "print(theta)\n",
    "plt.plot(range(1, iterations + 1), loss_history_train, color='magenta', label='cost of training data')\n",
    "plt.plot(range(1, iterations + 1), loss_history_validation, color='blue', label='cost of validation data')\n",
    "plt.grid()\n",
    "plt.xlabel('Number of Iterations')\n",
    "plt.ylabel('Cost/Loss')\n",
    "plt.title('Cost vs Iterations')\n",
    "plt.legend()"
   ]
  },
  {
   "cell_type": "markdown",
   "id": "bd5ab670",
   "metadata": {},
   "source": [
    "# Problem 2 Part b 12 inputs normalized"
   ]
  },
  {
   "cell_type": "code",
   "execution_count": 881,
   "id": "df9e3873",
   "metadata": {},
   "outputs": [],
   "source": [
    "import warnings\n",
    "warnings.filterwarnings('ignore')\n",
    "\n",
    "from sklearn.preprocessing import MinMaxScaler, StandardScaler\n",
    "\n",
    "# normalizing the input data and target column\n",
    "scaler = MinMaxScaler()\n",
    "df_train[num_vars] = scaler.fit_transform(df_train[num_vars])\n",
    "df_test[num_vars] = scaler.fit_transform(df_test[num_vars])"
   ]
  },
  {
   "cell_type": "code",
   "execution_count": 882,
   "id": "0678df6b",
   "metadata": {},
   "outputs": [
    {
     "name": "stdout",
     "output_type": "stream",
     "text": [
      "[436, 109]\n"
     ]
    }
   ],
   "source": [
    "X_Normtrain = df_train.values[:,1:12]\n",
    "y_Normtrain = df_train.values[:,0]\n",
    "x_validation = df_test.values[:,1:12]\n",
    "y_validation = df_test.values[:,0]\n",
    "\n",
    "m = [len(X_Normtrain), len(x_validation)]\n",
    "print(m)\n",
    "\n",
    "y_Normtrain = y_Normtrain.reshape(m[0],1)\n",
    "X0 = np.ones((m[0],1))\n",
    "X_Normtrain = np.hstack((X0, X_Normtrain))\n",
    "\n",
    "y_validation = y_validation.reshape(m[1],1)\n",
    "X0 = np.ones((m[1],1))\n",
    "x_validation = np.hstack((X0, x_validation))\n"
   ]
  },
  {
   "cell_type": "code",
   "execution_count": 883,
   "id": "ed098862",
   "metadata": {},
   "outputs": [],
   "source": [
    "theta = np.zeros((12,1))\n",
    "iterations = 1000;\n",
    "alpha = .01;"
   ]
  },
  {
   "cell_type": "code",
   "execution_count": 884,
   "id": "56b26589",
   "metadata": {},
   "outputs": [
    {
     "name": "stdout",
     "output_type": "stream",
     "text": [
      "[[0.04976613496239076]\n",
      " [0.07719053830345377]\n",
      " [0.05794529719456006]\n",
      " [0.10553149877276538]\n",
      " [0.08992899713034379]\n",
      " [0.05859842909513554]\n",
      " [0.04525963159012279]\n",
      " [0.02994134229754301]\n",
      " [0.03866410667921597]\n",
      " [0.09168724212116186]\n",
      " [0.07553271115511236]\n",
      " [0.07281426006088923]]\n"
     ]
    },
    {
     "data": {
      "text/plain": [
       "<matplotlib.legend.Legend at 0x1224babb190>"
      ]
     },
     "execution_count": 884,
     "metadata": {},
     "output_type": "execute_result"
    },
    {
     "data": {
      "image/png": "[encoded data removed]",
      "text/plain": [
       "<Figure size 432x288 with 1 Axes>"
      ]
     },
     "metadata": {
      "needs_background": "light"
     },
     "output_type": "display_data"
    }
   ],
   "source": [
    "theta, loss_history_train, loss_history_validation = gradient_descent(X_Normtrain, y_Normtrain, theta, alpha, iterations, m[0], m[1], x_validation, y_validation)\n",
    "\n",
    "total_loss_for_train = loss_history_train.sum()\n",
    "total_loss_for_validation = loss_history_validation.sum()\n",
    "\n",
    "print(theta)\n",
    "plt.plot(range(1, iterations + 1), loss_history_train, color='magenta', label='cost of training data')\n",
    "plt.plot(range(1, iterations + 1), loss_history_validation, color='blue', label='cost of validation data')\n",
    "plt.grid()\n",
    "plt.xlabel('Number of Iterations')\n",
    "plt.ylabel('Cost/Loss')\n",
    "plt.title('Cost vs Iterations')\n",
    "plt.legend()"
   ]
  },
  {
   "cell_type": "markdown",
   "id": "96c27323",
   "metadata": {},
   "source": [
    "# Standardized 12 inputs "
   ]
  },
  {
   "cell_type": "code",
   "execution_count": 890,
   "id": "901b49b6",
   "metadata": {},
   "outputs": [
    {
     "data": {
      "text/plain": [
       "(436, 13)"
      ]
     },
     "execution_count": 890,
     "metadata": {},
     "output_type": "execute_result"
    }
   ],
   "source": [
    "#Splitting the Data Training and Testing Sets\n",
    "from sklearn.model_selection import train_test_split\n",
    "\n",
    "# We specify this so that the train and test data set always have the same rows, respectively\n",
    "np.random.seed(0)\n",
    "df_train, df_test = train_test_split(housing, train_size = 0.8, test_size = 0.2)\n",
    "df_train.shape"
   ]
  },
  {
   "cell_type": "code",
   "execution_count": 891,
   "id": "22ce4e56",
   "metadata": {},
   "outputs": [],
   "source": [
    "import warnings\n",
    "warnings.filterwarnings('ignore')\n",
    "\n",
    "from sklearn.preprocessing import MinMaxScaler, StandardScaler\n",
    "\n",
    "# standardized the input data and target column\n",
    "scaler = StandardScaler()\n",
    "df_train[num_vars] = scaler.fit_transform(df_train[num_vars])\n",
    "df_test[num_vars] = scaler.fit_transform(df_test[num_vars])"
   ]
  },
  {
   "cell_type": "code",
   "execution_count": 892,
   "id": "da9a3f55",
   "metadata": {},
   "outputs": [
    {
     "name": "stdout",
     "output_type": "stream",
     "text": [
      "[436, 109]\n"
     ]
    }
   ],
   "source": [
    "X_Standardtrain = df_train.values[:,1:12]\n",
    "y_Standardtrain = df_train.values[:,0]\n",
    "x_validation = df_test.values[:,1:12]\n",
    "y_validation = df_test.values[:,0]\n",
    "\n",
    "m = [len(X_Standardtrain), len(x_validation)]\n",
    "print(m)\n",
    "\n",
    "y_Standardtrain = y_Standardtrain.reshape(m[0],1)\n",
    "X0 = np.ones((m[0],1))\n",
    "X_Standardtrain = np.hstack((X0, X_Standardtrain))\n",
    "\n",
    "y_validation = y_validation.reshape(m[1],1)\n",
    "X0 = np.ones((m[1],1))\n",
    "x_validation = np.hstack((X0, x_validation))"
   ]
  },
  {
   "cell_type": "code",
   "execution_count": 893,
   "id": "17b1cc2f",
   "metadata": {},
   "outputs": [],
   "source": [
    "theta = np.zeros((12,1))\n",
    "iterations = 1000;\n",
    "alpha = .01;"
   ]
  },
  {
   "cell_type": "code",
   "execution_count": 894,
   "id": "9dc49b04",
   "metadata": {},
   "outputs": [
    {
     "name": "stdout",
     "output_type": "stream",
     "text": [
      "[[-0.3066449250153809]\n",
      " [0.31560548175921804]\n",
      " [0.06012389906546737]\n",
      " [0.26973837023374236]\n",
      " [0.22456841844544762]\n",
      " [0.038661385163101185]\n",
      " [0.19541168184825977]\n",
      " [0.18831154801038297]\n",
      " [0.15052588684240853]\n",
      " [0.344453251264239]\n",
      " [0.13952312856449864]\n",
      " [0.30940957505833416]]\n"
     ]
    },
    {
     "data": {
      "text/plain": [
       "<matplotlib.legend.Legend at 0x1224bc18fd0>"
      ]
     },
     "execution_count": 894,
     "metadata": {},
     "output_type": "execute_result"
    },
    {
     "data": {
      "image/png": "[encoded data removed]",
      "text/plain": [
       "<Figure size 432x288 with 1 Axes>"
      ]
     },
     "metadata": {
      "needs_background": "light"
     },
     "output_type": "display_data"
    }
   ],
   "source": [
    "theta, loss_history_train, loss_history_validation = gradient_descent(X_Standardtrain, y_Standardtrain, theta, alpha, iterations, m[0], m[1], x_validation, y_validation)\n",
    "\n",
    "total_loss_for_train = loss_history_train.sum()\n",
    "total_loss_for_validation = loss_history_validation.sum()\n",
    "\n",
    "print(theta)\n",
    "plt.plot(range(1, iterations + 1), loss_history_train, color='magenta', label='cost of training data')\n",
    "plt.plot(range(1, iterations + 1), loss_history_validation, color='blue', label='cost of validation data')\n",
    "plt.grid()\n",
    "plt.xlabel('Number of Iterations')\n",
    "plt.ylabel('Cost/Loss')\n",
    "plt.title('Cost vs Iterations')\n",
    "plt.legend()"
   ]
  },
  {
   "cell_type": "markdown",
   "id": "9a28f494",
   "metadata": {},
   "source": [
    "# Problem 3 part a 6 inputs normalized with lamda term"
   ]
  },
  {
   "cell_type": "code",
   "execution_count": 895,
   "id": "378ef200",
   "metadata": {},
   "outputs": [
    {
     "data": {
      "text/plain": [
       "(436, 13)"
      ]
     },
     "execution_count": 895,
     "metadata": {},
     "output_type": "execute_result"
    }
   ],
   "source": [
    "#Splitting the Data Training and Testing Sets\n",
    "from sklearn.model_selection import train_test_split\n",
    "\n",
    "# We specify this so that the train and test data set always have the same rows, respectively\n",
    "np.random.seed(0)\n",
    "df_train, df_test = train_test_split(housing, train_size = 0.8, test_size = 0.2)\n",
    "df_train.shape"
   ]
  },
  {
   "cell_type": "code",
   "execution_count": 896,
   "id": "46ec665d",
   "metadata": {},
   "outputs": [],
   "source": [
    "num_vars = ['area', 'bedrooms', 'bathrooms', 'stories', 'parking', 'price']\n",
    "df_Newtrain = df_train[num_vars]\n",
    "df_Newtest = df_test[num_vars]"
   ]
  },
  {
   "cell_type": "code",
   "execution_count": 897,
   "id": "f1bc4965",
   "metadata": {},
   "outputs": [],
   "source": [
    "import warnings\n",
    "warnings.filterwarnings('ignore')\n",
    "\n",
    "from sklearn.preprocessing import MinMaxScaler, StandardScaler\n",
    "\n",
    "# normalizing the input data and target column\n",
    "scaler = MinMaxScaler()\n",
    "df_Newtrain[num_vars] = scaler.fit_transform(df_Newtrain[num_vars])\n",
    "df_Newtest[num_vars] = scaler.fit_transform(df_Newtest[num_vars])"
   ]
  },
  {
   "cell_type": "code",
   "execution_count": 898,
   "id": "466bbb48",
   "metadata": {},
   "outputs": [
    {
     "data": {
      "text/plain": [
       "(109, 5)"
      ]
     },
     "execution_count": 898,
     "metadata": {},
     "output_type": "execute_result"
    }
   ],
   "source": [
    "y_Normtrain = df_Newtrain.pop('price')\n",
    "X_Normtrain = df_Newtrain.copy()\n",
    "y_validation = df_Newtest.pop('price')\n",
    "x_validation = df_Newtest.copy()\n",
    "x_validation.shape\n"
   ]
  },
  {
   "cell_type": "code",
   "execution_count": 899,
   "id": "efc849b0",
   "metadata": {},
   "outputs": [
    {
     "name": "stdout",
     "output_type": "stream",
     "text": [
      "[436, 109]\n"
     ]
    }
   ],
   "source": [
    "X_Normtrain = X_Normtrain.values\n",
    "y_Normtrain = y_Normtrain.values\n",
    "x_validation = x_validation.values\n",
    "y_validation = y_validation.values\n",
    "\n",
    "m = [len(X_Normtrain), len(x_validation)]\n",
    "print(m)\n",
    "\n",
    "y_Normtrain = y_Normtrain.reshape(m[0],1)\n",
    "X0 = np.ones((m[0],1))\n",
    "X_Normtrain = np.hstack((X0, X_Normtrain))\n",
    "\n",
    "y_validation = y_validation.reshape(m[1],1)\n",
    "X0 = np.ones((m[1],1))\n",
    "x_validation = np.hstack((X0, x_validation))"
   ]
  },
  {
   "cell_type": "code",
   "execution_count": 900,
   "id": "87c8f956",
   "metadata": {},
   "outputs": [],
   "source": [
    "theta = np.zeros((6,1))\n",
    "iterations = 200;\n",
    "alpha = .01;\n",
    "lamda = .5;"
   ]
  },
  {
   "cell_type": "code",
   "execution_count": 901,
   "id": "7eafd20b",
   "metadata": {},
   "outputs": [
    {
     "name": "stdout",
     "output_type": "stream",
     "text": [
      "[[0.16626374]\n",
      " [0.06035403]\n",
      " [0.07836145]\n",
      " [0.05491016]\n",
      " [0.07253807]\n",
      " [0.06527466]]\n"
     ]
    },
    {
     "data": {
      "text/plain": [
       "<matplotlib.legend.Legend at 0x1224cc85ee0>"
      ]
     },
     "execution_count": 901,
     "metadata": {},
     "output_type": "execute_result"
    },
    {
     "data": {
      "image/png": "[encoded data removed]",
      "text/plain": [
       "<Figure size 432x288 with 1 Axes>"
      ]
     },
     "metadata": {
      "needs_background": "light"
     },
     "output_type": "display_data"
    }
   ],
   "source": [
    "theta, loss_history_train, loss_history_validation = gradient_descent_2(X_Normtrain, y_Normtrain, theta, alpha, iterations, m[0], m[1], x_validation, y_validation, lamda)\n",
    "\n",
    "total_loss_for_train = loss_history_train.sum()\n",
    "total_loss_for_validation = loss_history_validation.sum()\n",
    "\n",
    "print(theta)\n",
    "plt.plot(range(1, iterations + 1), loss_history_train, color='magenta', label='cost of training data')\n",
    "plt.plot(range(1, iterations + 1), loss_history_validation, color='blue', label='cost of validation data')\n",
    "plt.grid()\n",
    "plt.xlabel('Number of Iterations')\n",
    "plt.ylabel('Cost/Loss')\n",
    "plt.title('Cost vs Iterations')\n",
    "plt.legend()"
   ]
  },
  {
   "cell_type": "markdown",
   "id": "08b49323",
   "metadata": {},
   "source": [
    "# Standardized 6 inputs with the addition of lamda term"
   ]
  },
  {
   "cell_type": "code",
   "execution_count": 902,
   "id": "36d79b4b",
   "metadata": {},
   "outputs": [],
   "source": [
    "num_vars = ['area', 'bedrooms', 'bathrooms', 'stories', 'parking', 'price']\n",
    "df_Newtrain = df_train[num_vars]\n",
    "df_Newtest = df_test[num_vars]"
   ]
  },
  {
   "cell_type": "code",
   "execution_count": 903,
   "id": "4567eb59",
   "metadata": {},
   "outputs": [],
   "source": [
    "# standardizing the input data and target column\n",
    "scaler = StandardScaler()\n",
    "df_Newtrain[num_vars] = scaler.fit_transform(df_Newtrain[num_vars])\n",
    "df_Newtest[num_vars] = scaler.fit_transform(df_Newtest[num_vars])"
   ]
  },
  {
   "cell_type": "code",
   "execution_count": 904,
   "id": "0b1eb974",
   "metadata": {},
   "outputs": [
    {
     "data": {
      "text/plain": [
       "(109, 5)"
      ]
     },
     "execution_count": 904,
     "metadata": {},
     "output_type": "execute_result"
    }
   ],
   "source": [
    "y_Standardtrain = df_Newtrain.pop('price')\n",
    "X_Standardtrain = df_Newtrain.copy()\n",
    "y_validation = df_Newtest.pop('price')\n",
    "x_validation = df_Newtest.copy()\n",
    "x_validation.shape"
   ]
  },
  {
   "cell_type": "code",
   "execution_count": 905,
   "id": "82c79ac5",
   "metadata": {},
   "outputs": [
    {
     "name": "stdout",
     "output_type": "stream",
     "text": [
      "[436, 109]\n"
     ]
    }
   ],
   "source": [
    "X_Standardtrain = X_Standardtrain.values\n",
    "y_Standardtrain = y_Standardtrain.values\n",
    "x_validation = x_validation.values\n",
    "y_validation = y_validation.values\n",
    "\n",
    "m = [len(X_Standardtrain), len(x_validation)]\n",
    "print(m)\n",
    "\n",
    "y_Standardtrain = y_Standardtrain.reshape(m[0],1)\n",
    "X0 = np.ones((m[0],1))\n",
    "X_Standardtrain = np.hstack((X0, X_Standardtrain))\n",
    "\n",
    "y_validation = y_validation.reshape(m[1],1)\n",
    "X0 = np.ones((m[1],1))\n",
    "x_validation = np.hstack((X0, x_validation))"
   ]
  },
  {
   "cell_type": "code",
   "execution_count": 906,
   "id": "c8e8de10",
   "metadata": {},
   "outputs": [],
   "source": [
    "theta = np.zeros((6,1))\n",
    "iterations = 200;\n",
    "alpha = .01;\n",
    "lamda = .5;"
   ]
  },
  {
   "cell_type": "code",
   "execution_count": 907,
   "id": "2685d692",
   "metadata": {},
   "outputs": [
    {
     "name": "stdout",
     "output_type": "stream",
     "text": [
      "[[2.08693918e-16]\n",
      " [3.44868217e-01]\n",
      " [1.30798978e-01]\n",
      " [2.79721008e-01]\n",
      " [2.18254291e-01]\n",
      " [1.75921275e-01]]\n"
     ]
    },
    {
     "data": {
      "text/plain": [
       "<matplotlib.legend.Legend at 0x1224ba814f0>"
      ]
     },
     "execution_count": 907,
     "metadata": {},
     "output_type": "execute_result"
    },
    {
     "data": {
      "image/png": "[encoded data removed]",
      "text/plain": [
       "<Figure size 432x288 with 1 Axes>"
      ]
     },
     "metadata": {
      "needs_background": "light"
     },
     "output_type": "display_data"
    }
   ],
   "source": [
    "theta, loss_history_train, loss_history_validation = gradient_descent_2(X_Standardtrain, y_Standardtrain, theta, alpha, iterations, m[0], m[1], x_validation, y_validation, lamda)\n",
    "\n",
    "total_loss_for_train = loss_history_train.sum()\n",
    "total_loss_for_validation = loss_history_validation.sum()\n",
    "\n",
    "print(theta)\n",
    "plt.plot(range(1, iterations + 1), loss_history_train, color='magenta', label='cost of training data')\n",
    "plt.plot(range(1, iterations + 1), loss_history_validation, color='blue', label='cost of validation data')\n",
    "plt.grid()\n",
    "plt.xlabel('Number of Iterations')\n",
    "plt.ylabel('Cost/Loss')\n",
    "plt.title('Cost vs Iterations')\n",
    "plt.legend()"
   ]
  },
  {
   "cell_type": "markdown",
   "id": "f1e66236",
   "metadata": {},
   "source": [
    "# Problem 3 part b 12 inputs normalized with addtion of lamda term"
   ]
  },
  {
   "cell_type": "code",
   "execution_count": 908,
   "id": "67621896",
   "metadata": {},
   "outputs": [],
   "source": [
    "import warnings\n",
    "warnings.filterwarnings('ignore')\n",
    "\n",
    "from sklearn.preprocessing import MinMaxScaler, StandardScaler\n",
    "\n",
    "# normalizing the input data and target column\n",
    "scaler = MinMaxScaler()\n",
    "df_train[num_vars] = scaler.fit_transform(df_train[num_vars])\n",
    "df_test[num_vars] = scaler.fit_transform(df_test[num_vars])"
   ]
  },
  {
   "cell_type": "code",
   "execution_count": 909,
   "id": "884ef445",
   "metadata": {},
   "outputs": [
    {
     "name": "stdout",
     "output_type": "stream",
     "text": [
      "[436, 109]\n"
     ]
    }
   ],
   "source": [
    "X_Normtrain = df_train.values[:,1:12]\n",
    "y_Normtrain = df_train.values[:,0]\n",
    "x_validation = df_test.values[:,1:12]\n",
    "y_validation = df_test.values[:,0]\n",
    "\n",
    "m = [len(X_Normtrain), len(x_validation)]\n",
    "print(m)\n",
    "\n",
    "y_Normtrain = y_Normtrain.reshape(m[0],1)\n",
    "X0 = np.ones((m[0],1))\n",
    "X_Normtrain = np.hstack((X0, X_Normtrain))\n",
    "\n",
    "y_validation = y_validation.reshape(m[1],1)\n",
    "X0 = np.ones((m[1],1))\n",
    "x_validation = np.hstack((X0, x_validation))\n"
   ]
  },
  {
   "cell_type": "code",
   "execution_count": 910,
   "id": "5b7a135f",
   "metadata": {},
   "outputs": [],
   "source": [
    "theta = np.zeros((12,1))\n",
    "iterations = 200;\n",
    "alpha = .01;\n",
    "lamda = .5;"
   ]
  },
  {
   "cell_type": "code",
   "execution_count": 911,
   "id": "8320e16b",
   "metadata": {},
   "outputs": [
    {
     "name": "stdout",
     "output_type": "stream",
     "text": [
      "[[0.08805828855986557]\n",
      " [0.038139687997721744]\n",
      " [0.04681300011879759]\n",
      " [0.04169288795437535]\n",
      " [0.049705559189254275]\n",
      " [0.08388941346596321]\n",
      " [0.03200830000528784]\n",
      " [0.03896101184827183]\n",
      " [0.011699370533797958]\n",
      " [0.06425328612597503]\n",
      " [0.042447028503896346]\n",
      " [0.047748334559592966]]\n"
     ]
    },
    {
     "data": {
      "text/plain": [
       "<matplotlib.legend.Legend at 0x1224cc54d60>"
      ]
     },
     "execution_count": 911,
     "metadata": {},
     "output_type": "execute_result"
    },
    {
     "data": {
      "image/png": "[encoded data removed]",
      "text/plain": [
       "<Figure size 432x288 with 1 Axes>"
      ]
     },
     "metadata": {
      "needs_background": "light"
     },
     "output_type": "display_data"
    }
   ],
   "source": [
    "theta, loss_history_train, loss_history_validation = gradient_descent_2(X_Normtrain, y_Normtrain, theta, alpha, iterations, m[0], m[1], x_validation, y_validation, lamda)\n",
    "\n",
    "total_loss_for_train = loss_history_train.sum()\n",
    "total_loss_for_validation = loss_history_validation.sum()\n",
    "\n",
    "print(theta)\n",
    "plt.plot(range(1, iterations + 1), loss_history_train, color='magenta', label='cost of training data')\n",
    "plt.plot(range(1, iterations + 1), loss_history_validation, color='blue', label='cost of validation data')\n",
    "plt.grid()\n",
    "plt.xlabel('Number of Iterations')\n",
    "plt.ylabel('Cost/Loss')\n",
    "plt.title('Cost vs Iterations')\n",
    "plt.legend()"
   ]
  },
  {
   "cell_type": "markdown",
   "id": "cf9ccb6c",
   "metadata": {},
   "source": [
    "# 12 inputs standaredized with added lamda term"
   ]
  },
  {
   "cell_type": "code",
   "execution_count": 927,
   "id": "de126b2a",
   "metadata": {},
   "outputs": [
    {
     "data": {
      "text/plain": [
       "(436, 13)"
      ]
     },
     "execution_count": 927,
     "metadata": {},
     "output_type": "execute_result"
    }
   ],
   "source": [
    "#Splitting the Data Training and Testing Sets\n",
    "from sklearn.model_selection import train_test_split\n",
    "\n",
    "# We specify this so that the train and test data set always have the same rows, respectively\n",
    "np.random.seed(0)\n",
    "df_train, df_test = train_test_split(housing, train_size = 0.8, test_size = 0.2)\n",
    "df_train.shape"
   ]
  },
  {
   "cell_type": "code",
   "execution_count": 928,
   "id": "d6470ac7",
   "metadata": {},
   "outputs": [],
   "source": [
    "import warnings\n",
    "warnings.filterwarnings('ignore')\n",
    "\n",
    "from sklearn.preprocessing import MinMaxScaler, StandardScaler\n",
    "\n",
    "# standardized the input data and target column\n",
    "scaler = StandardScaler()\n",
    "df_train[num_vars] = scaler.fit_transform(df_train[num_vars])\n",
    "df_test[num_vars] = scaler.fit_transform(df_test[num_vars])"
   ]
  },
  {
   "cell_type": "code",
   "execution_count": 929,
   "id": "bcc353c4",
   "metadata": {},
   "outputs": [
    {
     "name": "stdout",
     "output_type": "stream",
     "text": [
      "[436, 109]\n"
     ]
    }
   ],
   "source": [
    "X_Standardtrain = df_train.values[:,1:12]\n",
    "y_Standardtrain = df_train.values[:,0]\n",
    "x_validation = df_test.values[:,1:12]\n",
    "y_validation = df_test.values[:,0]\n",
    "\n",
    "m = [len(X_Standardtrain), len(x_validation)]\n",
    "print(m)\n",
    "\n",
    "y_Standardtrain = y_Standardtrain.reshape(m[0],1)\n",
    "X0 = np.ones((m[0],1))\n",
    "X_Standardtrain = np.hstack((X0, X_Standardtrain))\n",
    "\n",
    "y_validation = y_validation.reshape(m[1],1)\n",
    "X0 = np.ones((m[1],1))\n",
    "x_validation = np.hstack((X0, x_validation))"
   ]
  },
  {
   "cell_type": "code",
   "execution_count": 930,
   "id": "23c685c0",
   "metadata": {},
   "outputs": [],
   "source": [
    "theta = np.zeros((12,1))\n",
    "iterations = 1000;\n",
    "alpha = .01;\n",
    "lamda = .1;"
   ]
  },
  {
   "cell_type": "code",
   "execution_count": 931,
   "id": "fc44c966",
   "metadata": {},
   "outputs": [
    {
     "name": "stdout",
     "output_type": "stream",
     "text": [
      "[[-0.3066449250153809]\n",
      " [0.31560548175921804]\n",
      " [0.06012389906546737]\n",
      " [0.26973837023374236]\n",
      " [0.22456841844544762]\n",
      " [0.038661385163101185]\n",
      " [0.19541168184825977]\n",
      " [0.18831154801038297]\n",
      " [0.15052588684240853]\n",
      " [0.344453251264239]\n",
      " [0.13952312856449864]\n",
      " [0.30940957505833416]]\n"
     ]
    },
    {
     "data": {
      "text/plain": [
       "<matplotlib.legend.Legend at 0x1224cf60fa0>"
      ]
     },
     "execution_count": 931,
     "metadata": {},
     "output_type": "execute_result"
    },
    {
     "data": {
      "image/png": "[encoded data removed]",
      "text/plain": [
       "<Figure size 432x288 with 1 Axes>"
      ]
     },
     "metadata": {
      "needs_background": "light"
     },
     "output_type": "display_data"
    }
   ],
   "source": [
    "theta, loss_history_train, loss_history_validation = gradient_descent_2(X_Standardtrain, y_Standardtrain, theta, alpha, iterations, m[0], m[1], x_validation, y_validation, lamda)\n",
    "\n",
    "total_loss_for_train = loss_history_train.sum()\n",
    "total_loss_for_validation = loss_history_validation.sum()\n",
    "\n",
    "print(theta)\n",
    "plt.plot(range(1, iterations + 1), loss_history_train, color='magenta', label='cost of training data')\n",
    "plt.plot(range(1, iterations + 1), loss_history_validation, color='blue', label='cost of validation data')\n",
    "plt.grid()\n",
    "plt.xlabel('Number of Iterations')\n",
    "plt.ylabel('Cost/Loss')\n",
    "plt.title('Cost vs Iterations')\n",
    "plt.legend()"
   ]
  },
  {
   "cell_type": "code",
   "execution_count": null,
   "id": "4acd89a8",
   "metadata": {},
   "outputs": [],
   "source": []
  },
  {
   "cell_type": "code",
   "execution_count": null,
   "id": "b073f71c",
   "metadata": {},
   "outputs": [],
   "source": []
  }
 ],
 "metadata": {
  "kernelspec": {
   "display_name": "Python 3 (ipykernel)",
   "language": "python",
   "name": "python3"
  },
  "language_info": {
   "codemirror_mode": {
    "name": "ipython",
    "version": 3
   },
   "file_extension": ".py",
   "mimetype": "text/x-python",
   "name": "python",
   "nbconvert_exporter": "python",
   "pygments_lexer": "ipython3",
   "version": "3.9.12"
  }
 },
 "nbformat": 4,
 "nbformat_minor": 5
}
